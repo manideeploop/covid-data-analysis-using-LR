{
 "cells": [
  {
   "cell_type": "code",
   "execution_count": 75,
   "metadata": {},
   "outputs": [],
   "source": [
    "import pandas as pd\n",
    "import numpy as np\n",
    "import matplotlib.pyplot as plt\n",
    "%matplotlib inline\n",
    "from sklearn.model_selection import train_test_split\n",
    "from sklearn.linear_model import LinearRegression\n",
    "from sklearn import metrics\n",
    "import os  \n",
    "import seaborn as sns"
   ]
  },
  {
   "cell_type": "code",
   "execution_count": 76,
   "metadata": {},
   "outputs": [],
   "source": [
    "data=pd.read_csv(\"Downloads\\WHO-COVID-19-global-data.csv\")"
   ]
  },
  {
   "cell_type": "code",
   "execution_count": 77,
   "metadata": {},
   "outputs": [
    {
     "data": {
      "text/html": [
       "<div>\n",
       "<style scoped>\n",
       "    .dataframe tbody tr th:only-of-type {\n",
       "        vertical-align: middle;\n",
       "    }\n",
       "\n",
       "    .dataframe tbody tr th {\n",
       "        vertical-align: top;\n",
       "    }\n",
       "\n",
       "    .dataframe thead th {\n",
       "        text-align: right;\n",
       "    }\n",
       "</style>\n",
       "<table border=\"1\" class=\"dataframe\">\n",
       "  <thead>\n",
       "    <tr style=\"text-align: right;\">\n",
       "      <th></th>\n",
       "      <th>Date_reported</th>\n",
       "      <th>Country_code</th>\n",
       "      <th>Country</th>\n",
       "      <th>WHO_region</th>\n",
       "      <th>New_cases</th>\n",
       "      <th>Cumulative_cases</th>\n",
       "      <th>New_deaths</th>\n",
       "      <th>Cumulative_deaths</th>\n",
       "    </tr>\n",
       "  </thead>\n",
       "  <tbody>\n",
       "    <tr>\n",
       "      <td>0</td>\n",
       "      <td>03-01-2020</td>\n",
       "      <td>AF</td>\n",
       "      <td>Afghanistan</td>\n",
       "      <td>EMRO</td>\n",
       "      <td>0</td>\n",
       "      <td>0</td>\n",
       "      <td>0</td>\n",
       "      <td>0</td>\n",
       "    </tr>\n",
       "    <tr>\n",
       "      <td>1</td>\n",
       "      <td>04-01-2020</td>\n",
       "      <td>AF</td>\n",
       "      <td>Afghanistan</td>\n",
       "      <td>EMRO</td>\n",
       "      <td>0</td>\n",
       "      <td>0</td>\n",
       "      <td>0</td>\n",
       "      <td>0</td>\n",
       "    </tr>\n",
       "    <tr>\n",
       "      <td>2</td>\n",
       "      <td>05-01-2020</td>\n",
       "      <td>AF</td>\n",
       "      <td>Afghanistan</td>\n",
       "      <td>EMRO</td>\n",
       "      <td>0</td>\n",
       "      <td>0</td>\n",
       "      <td>0</td>\n",
       "      <td>0</td>\n",
       "    </tr>\n",
       "    <tr>\n",
       "      <td>3</td>\n",
       "      <td>06-01-2020</td>\n",
       "      <td>AF</td>\n",
       "      <td>Afghanistan</td>\n",
       "      <td>EMRO</td>\n",
       "      <td>0</td>\n",
       "      <td>0</td>\n",
       "      <td>0</td>\n",
       "      <td>0</td>\n",
       "    </tr>\n",
       "    <tr>\n",
       "      <td>4</td>\n",
       "      <td>07-01-2020</td>\n",
       "      <td>AF</td>\n",
       "      <td>Afghanistan</td>\n",
       "      <td>EMRO</td>\n",
       "      <td>0</td>\n",
       "      <td>0</td>\n",
       "      <td>0</td>\n",
       "      <td>0</td>\n",
       "    </tr>\n",
       "    <tr>\n",
       "      <td>...</td>\n",
       "      <td>...</td>\n",
       "      <td>...</td>\n",
       "      <td>...</td>\n",
       "      <td>...</td>\n",
       "      <td>...</td>\n",
       "      <td>...</td>\n",
       "      <td>...</td>\n",
       "      <td>...</td>\n",
       "    </tr>\n",
       "    <tr>\n",
       "      <td>178693</td>\n",
       "      <td>21-01-2022</td>\n",
       "      <td>ZW</td>\n",
       "      <td>Zimbabwe</td>\n",
       "      <td>AFRO</td>\n",
       "      <td>808</td>\n",
       "      <td>227695</td>\n",
       "      <td>14</td>\n",
       "      <td>5280</td>\n",
       "    </tr>\n",
       "    <tr>\n",
       "      <td>178694</td>\n",
       "      <td>22-01-2022</td>\n",
       "      <td>ZW</td>\n",
       "      <td>Zimbabwe</td>\n",
       "      <td>AFRO</td>\n",
       "      <td>266</td>\n",
       "      <td>227961</td>\n",
       "      <td>8</td>\n",
       "      <td>5288</td>\n",
       "    </tr>\n",
       "    <tr>\n",
       "      <td>178695</td>\n",
       "      <td>23-01-2022</td>\n",
       "      <td>ZW</td>\n",
       "      <td>Zimbabwe</td>\n",
       "      <td>AFRO</td>\n",
       "      <td>218</td>\n",
       "      <td>228179</td>\n",
       "      <td>4</td>\n",
       "      <td>5292</td>\n",
       "    </tr>\n",
       "    <tr>\n",
       "      <td>178696</td>\n",
       "      <td>24-01-2022</td>\n",
       "      <td>ZW</td>\n",
       "      <td>Zimbabwe</td>\n",
       "      <td>AFRO</td>\n",
       "      <td>75</td>\n",
       "      <td>228254</td>\n",
       "      <td>2</td>\n",
       "      <td>5294</td>\n",
       "    </tr>\n",
       "    <tr>\n",
       "      <td>178697</td>\n",
       "      <td>25-01-2022</td>\n",
       "      <td>ZW</td>\n",
       "      <td>Zimbabwe</td>\n",
       "      <td>AFRO</td>\n",
       "      <td>287</td>\n",
       "      <td>228541</td>\n",
       "      <td>11</td>\n",
       "      <td>5305</td>\n",
       "    </tr>\n",
       "  </tbody>\n",
       "</table>\n",
       "<p>178698 rows × 8 columns</p>\n",
       "</div>"
      ],
      "text/plain": [
       "       Date_reported Country_code      Country WHO_region  New_cases  \\\n",
       "0         03-01-2020           AF  Afghanistan       EMRO          0   \n",
       "1         04-01-2020           AF  Afghanistan       EMRO          0   \n",
       "2         05-01-2020           AF  Afghanistan       EMRO          0   \n",
       "3         06-01-2020           AF  Afghanistan       EMRO          0   \n",
       "4         07-01-2020           AF  Afghanistan       EMRO          0   \n",
       "...              ...          ...          ...        ...        ...   \n",
       "178693    21-01-2022           ZW     Zimbabwe       AFRO        808   \n",
       "178694    22-01-2022           ZW     Zimbabwe       AFRO        266   \n",
       "178695    23-01-2022           ZW     Zimbabwe       AFRO        218   \n",
       "178696    24-01-2022           ZW     Zimbabwe       AFRO         75   \n",
       "178697    25-01-2022           ZW     Zimbabwe       AFRO        287   \n",
       "\n",
       "        Cumulative_cases  New_deaths  Cumulative_deaths  \n",
       "0                      0           0                  0  \n",
       "1                      0           0                  0  \n",
       "2                      0           0                  0  \n",
       "3                      0           0                  0  \n",
       "4                      0           0                  0  \n",
       "...                  ...         ...                ...  \n",
       "178693            227695          14               5280  \n",
       "178694            227961           8               5288  \n",
       "178695            228179           4               5292  \n",
       "178696            228254           2               5294  \n",
       "178697            228541          11               5305  \n",
       "\n",
       "[178698 rows x 8 columns]"
      ]
     },
     "execution_count": 77,
     "metadata": {},
     "output_type": "execute_result"
    }
   ],
   "source": [
    "data"
   ]
  },
  {
   "cell_type": "code",
   "execution_count": 78,
   "metadata": {},
   "outputs": [
    {
     "data": {
      "text/html": [
       "<div>\n",
       "<style scoped>\n",
       "    .dataframe tbody tr th:only-of-type {\n",
       "        vertical-align: middle;\n",
       "    }\n",
       "\n",
       "    .dataframe tbody tr th {\n",
       "        vertical-align: top;\n",
       "    }\n",
       "\n",
       "    .dataframe thead th {\n",
       "        text-align: right;\n",
       "    }\n",
       "</style>\n",
       "<table border=\"1\" class=\"dataframe\">\n",
       "  <thead>\n",
       "    <tr style=\"text-align: right;\">\n",
       "      <th></th>\n",
       "      <th>New_cases</th>\n",
       "      <th>Cumulative_cases</th>\n",
       "      <th>New_deaths</th>\n",
       "      <th>Cumulative_deaths</th>\n",
       "    </tr>\n",
       "  </thead>\n",
       "  <tbody>\n",
       "    <tr>\n",
       "      <td>count</td>\n",
       "      <td>1.786980e+05</td>\n",
       "      <td>1.786980e+05</td>\n",
       "      <td>178698.000000</td>\n",
       "      <td>178698.000000</td>\n",
       "    </tr>\n",
       "    <tr>\n",
       "      <td>mean</td>\n",
       "      <td>1.974262e+03</td>\n",
       "      <td>4.603076e+05</td>\n",
       "      <td>31.340216</td>\n",
       "      <td>9991.535854</td>\n",
       "    </tr>\n",
       "    <tr>\n",
       "      <td>std</td>\n",
       "      <td>1.417600e+04</td>\n",
       "      <td>2.547220e+06</td>\n",
       "      <td>164.592933</td>\n",
       "      <td>47888.783965</td>\n",
       "    </tr>\n",
       "    <tr>\n",
       "      <td>min</td>\n",
       "      <td>-3.295200e+04</td>\n",
       "      <td>0.000000e+00</td>\n",
       "      <td>-92.000000</td>\n",
       "      <td>0.000000</td>\n",
       "    </tr>\n",
       "    <tr>\n",
       "      <td>25%</td>\n",
       "      <td>0.000000e+00</td>\n",
       "      <td>1.050000e+02</td>\n",
       "      <td>0.000000</td>\n",
       "      <td>1.000000</td>\n",
       "    </tr>\n",
       "    <tr>\n",
       "      <td>50%</td>\n",
       "      <td>1.900000e+01</td>\n",
       "      <td>7.539000e+03</td>\n",
       "      <td>0.000000</td>\n",
       "      <td>112.000000</td>\n",
       "    </tr>\n",
       "    <tr>\n",
       "      <td>75%</td>\n",
       "      <td>4.570000e+02</td>\n",
       "      <td>1.242442e+05</td>\n",
       "      <td>6.000000</td>\n",
       "      <td>2116.000000</td>\n",
       "    </tr>\n",
       "    <tr>\n",
       "      <td>max</td>\n",
       "      <td>1.336733e+06</td>\n",
       "      <td>7.015360e+07</td>\n",
       "      <td>8786.000000</td>\n",
       "      <td>860113.000000</td>\n",
       "    </tr>\n",
       "  </tbody>\n",
       "</table>\n",
       "</div>"
      ],
      "text/plain": [
       "          New_cases  Cumulative_cases     New_deaths  Cumulative_deaths\n",
       "count  1.786980e+05      1.786980e+05  178698.000000      178698.000000\n",
       "mean   1.974262e+03      4.603076e+05      31.340216        9991.535854\n",
       "std    1.417600e+04      2.547220e+06     164.592933       47888.783965\n",
       "min   -3.295200e+04      0.000000e+00     -92.000000           0.000000\n",
       "25%    0.000000e+00      1.050000e+02       0.000000           1.000000\n",
       "50%    1.900000e+01      7.539000e+03       0.000000         112.000000\n",
       "75%    4.570000e+02      1.242442e+05       6.000000        2116.000000\n",
       "max    1.336733e+06      7.015360e+07    8786.000000      860113.000000"
      ]
     },
     "execution_count": 78,
     "metadata": {},
     "output_type": "execute_result"
    }
   ],
   "source": [
    "data.describe()"
   ]
  },
  {
   "cell_type": "markdown",
   "metadata": {},
   "source": [
    "selecting only specific featurs from our dataset"
   ]
  },
  {
   "cell_type": "code",
   "execution_count": 79,
   "metadata": {},
   "outputs": [],
   "source": [
    "df=data[['Date_reported','Country','New_cases','New_deaths','Cumulative_deaths']]\n"
   ]
  },
  {
   "cell_type": "code",
   "execution_count": 80,
   "metadata": {},
   "outputs": [
    {
     "data": {
      "text/html": [
       "<div>\n",
       "<style scoped>\n",
       "    .dataframe tbody tr th:only-of-type {\n",
       "        vertical-align: middle;\n",
       "    }\n",
       "\n",
       "    .dataframe tbody tr th {\n",
       "        vertical-align: top;\n",
       "    }\n",
       "\n",
       "    .dataframe thead th {\n",
       "        text-align: right;\n",
       "    }\n",
       "</style>\n",
       "<table border=\"1\" class=\"dataframe\">\n",
       "  <thead>\n",
       "    <tr style=\"text-align: right;\">\n",
       "      <th></th>\n",
       "      <th>Date_reported</th>\n",
       "      <th>Country</th>\n",
       "      <th>New_cases</th>\n",
       "      <th>New_deaths</th>\n",
       "      <th>Cumulative_deaths</th>\n",
       "    </tr>\n",
       "  </thead>\n",
       "  <tbody>\n",
       "    <tr>\n",
       "      <td>0</td>\n",
       "      <td>03-01-2020</td>\n",
       "      <td>Afghanistan</td>\n",
       "      <td>0</td>\n",
       "      <td>0</td>\n",
       "      <td>0</td>\n",
       "    </tr>\n",
       "    <tr>\n",
       "      <td>1</td>\n",
       "      <td>04-01-2020</td>\n",
       "      <td>Afghanistan</td>\n",
       "      <td>0</td>\n",
       "      <td>0</td>\n",
       "      <td>0</td>\n",
       "    </tr>\n",
       "    <tr>\n",
       "      <td>2</td>\n",
       "      <td>05-01-2020</td>\n",
       "      <td>Afghanistan</td>\n",
       "      <td>0</td>\n",
       "      <td>0</td>\n",
       "      <td>0</td>\n",
       "    </tr>\n",
       "    <tr>\n",
       "      <td>3</td>\n",
       "      <td>06-01-2020</td>\n",
       "      <td>Afghanistan</td>\n",
       "      <td>0</td>\n",
       "      <td>0</td>\n",
       "      <td>0</td>\n",
       "    </tr>\n",
       "    <tr>\n",
       "      <td>4</td>\n",
       "      <td>07-01-2020</td>\n",
       "      <td>Afghanistan</td>\n",
       "      <td>0</td>\n",
       "      <td>0</td>\n",
       "      <td>0</td>\n",
       "    </tr>\n",
       "    <tr>\n",
       "      <td>...</td>\n",
       "      <td>...</td>\n",
       "      <td>...</td>\n",
       "      <td>...</td>\n",
       "      <td>...</td>\n",
       "      <td>...</td>\n",
       "    </tr>\n",
       "    <tr>\n",
       "      <td>178693</td>\n",
       "      <td>21-01-2022</td>\n",
       "      <td>Zimbabwe</td>\n",
       "      <td>808</td>\n",
       "      <td>14</td>\n",
       "      <td>5280</td>\n",
       "    </tr>\n",
       "    <tr>\n",
       "      <td>178694</td>\n",
       "      <td>22-01-2022</td>\n",
       "      <td>Zimbabwe</td>\n",
       "      <td>266</td>\n",
       "      <td>8</td>\n",
       "      <td>5288</td>\n",
       "    </tr>\n",
       "    <tr>\n",
       "      <td>178695</td>\n",
       "      <td>23-01-2022</td>\n",
       "      <td>Zimbabwe</td>\n",
       "      <td>218</td>\n",
       "      <td>4</td>\n",
       "      <td>5292</td>\n",
       "    </tr>\n",
       "    <tr>\n",
       "      <td>178696</td>\n",
       "      <td>24-01-2022</td>\n",
       "      <td>Zimbabwe</td>\n",
       "      <td>75</td>\n",
       "      <td>2</td>\n",
       "      <td>5294</td>\n",
       "    </tr>\n",
       "    <tr>\n",
       "      <td>178697</td>\n",
       "      <td>25-01-2022</td>\n",
       "      <td>Zimbabwe</td>\n",
       "      <td>287</td>\n",
       "      <td>11</td>\n",
       "      <td>5305</td>\n",
       "    </tr>\n",
       "  </tbody>\n",
       "</table>\n",
       "<p>178698 rows × 5 columns</p>\n",
       "</div>"
      ],
      "text/plain": [
       "       Date_reported      Country  New_cases  New_deaths  Cumulative_deaths\n",
       "0         03-01-2020  Afghanistan          0           0                  0\n",
       "1         04-01-2020  Afghanistan          0           0                  0\n",
       "2         05-01-2020  Afghanistan          0           0                  0\n",
       "3         06-01-2020  Afghanistan          0           0                  0\n",
       "4         07-01-2020  Afghanistan          0           0                  0\n",
       "...              ...          ...        ...         ...                ...\n",
       "178693    21-01-2022     Zimbabwe        808          14               5280\n",
       "178694    22-01-2022     Zimbabwe        266           8               5288\n",
       "178695    23-01-2022     Zimbabwe        218           4               5292\n",
       "178696    24-01-2022     Zimbabwe         75           2               5294\n",
       "178697    25-01-2022     Zimbabwe        287          11               5305\n",
       "\n",
       "[178698 rows x 5 columns]"
      ]
     },
     "execution_count": 80,
     "metadata": {},
     "output_type": "execute_result"
    }
   ],
   "source": [
    "df"
   ]
  },
  {
   "cell_type": "code",
   "execution_count": 81,
   "metadata": {},
   "outputs": [
    {
     "data": {
      "text/html": [
       "<div>\n",
       "<style scoped>\n",
       "    .dataframe tbody tr th:only-of-type {\n",
       "        vertical-align: middle;\n",
       "    }\n",
       "\n",
       "    .dataframe tbody tr th {\n",
       "        vertical-align: top;\n",
       "    }\n",
       "\n",
       "    .dataframe thead th {\n",
       "        text-align: right;\n",
       "    }\n",
       "</style>\n",
       "<table border=\"1\" class=\"dataframe\">\n",
       "  <thead>\n",
       "    <tr style=\"text-align: right;\">\n",
       "      <th></th>\n",
       "      <th>New_cases</th>\n",
       "      <th>New_deaths</th>\n",
       "      <th>Cumulative_deaths</th>\n",
       "    </tr>\n",
       "  </thead>\n",
       "  <tbody>\n",
       "    <tr>\n",
       "      <td>count</td>\n",
       "      <td>1.786980e+05</td>\n",
       "      <td>178698.000000</td>\n",
       "      <td>178698.000000</td>\n",
       "    </tr>\n",
       "    <tr>\n",
       "      <td>mean</td>\n",
       "      <td>1.974262e+03</td>\n",
       "      <td>31.340216</td>\n",
       "      <td>9991.535854</td>\n",
       "    </tr>\n",
       "    <tr>\n",
       "      <td>std</td>\n",
       "      <td>1.417600e+04</td>\n",
       "      <td>164.592933</td>\n",
       "      <td>47888.783965</td>\n",
       "    </tr>\n",
       "    <tr>\n",
       "      <td>min</td>\n",
       "      <td>-3.295200e+04</td>\n",
       "      <td>-92.000000</td>\n",
       "      <td>0.000000</td>\n",
       "    </tr>\n",
       "    <tr>\n",
       "      <td>25%</td>\n",
       "      <td>0.000000e+00</td>\n",
       "      <td>0.000000</td>\n",
       "      <td>1.000000</td>\n",
       "    </tr>\n",
       "    <tr>\n",
       "      <td>50%</td>\n",
       "      <td>1.900000e+01</td>\n",
       "      <td>0.000000</td>\n",
       "      <td>112.000000</td>\n",
       "    </tr>\n",
       "    <tr>\n",
       "      <td>75%</td>\n",
       "      <td>4.570000e+02</td>\n",
       "      <td>6.000000</td>\n",
       "      <td>2116.000000</td>\n",
       "    </tr>\n",
       "    <tr>\n",
       "      <td>max</td>\n",
       "      <td>1.336733e+06</td>\n",
       "      <td>8786.000000</td>\n",
       "      <td>860113.000000</td>\n",
       "    </tr>\n",
       "  </tbody>\n",
       "</table>\n",
       "</div>"
      ],
      "text/plain": [
       "          New_cases     New_deaths  Cumulative_deaths\n",
       "count  1.786980e+05  178698.000000      178698.000000\n",
       "mean   1.974262e+03      31.340216        9991.535854\n",
       "std    1.417600e+04     164.592933       47888.783965\n",
       "min   -3.295200e+04     -92.000000           0.000000\n",
       "25%    0.000000e+00       0.000000           1.000000\n",
       "50%    1.900000e+01       0.000000         112.000000\n",
       "75%    4.570000e+02       6.000000        2116.000000\n",
       "max    1.336733e+06    8786.000000      860113.000000"
      ]
     },
     "execution_count": 81,
     "metadata": {},
     "output_type": "execute_result"
    }
   ],
   "source": [
    "df.describe()"
   ]
  },
  {
   "cell_type": "markdown",
   "metadata": {},
   "source": [
    "making a new dataframe named \"india_df\" for analysing cases in india"
   ]
  },
  {
   "cell_type": "code",
   "execution_count": 82,
   "metadata": {},
   "outputs": [],
   "source": [
    "india_df=df[df['Country']== 'India']"
   ]
  },
  {
   "cell_type": "code",
   "execution_count": 83,
   "metadata": {},
   "outputs": [
    {
     "data": {
      "text/html": [
       "<div>\n",
       "<style scoped>\n",
       "    .dataframe tbody tr th:only-of-type {\n",
       "        vertical-align: middle;\n",
       "    }\n",
       "\n",
       "    .dataframe tbody tr th {\n",
       "        vertical-align: top;\n",
       "    }\n",
       "\n",
       "    .dataframe thead th {\n",
       "        text-align: right;\n",
       "    }\n",
       "</style>\n",
       "<table border=\"1\" class=\"dataframe\">\n",
       "  <thead>\n",
       "    <tr style=\"text-align: right;\">\n",
       "      <th></th>\n",
       "      <th>Date_reported</th>\n",
       "      <th>Country</th>\n",
       "      <th>New_cases</th>\n",
       "      <th>New_deaths</th>\n",
       "      <th>Cumulative_deaths</th>\n",
       "    </tr>\n",
       "  </thead>\n",
       "  <tbody>\n",
       "    <tr>\n",
       "      <td>72384</td>\n",
       "      <td>03-01-2020</td>\n",
       "      <td>India</td>\n",
       "      <td>0</td>\n",
       "      <td>0</td>\n",
       "      <td>0</td>\n",
       "    </tr>\n",
       "    <tr>\n",
       "      <td>72385</td>\n",
       "      <td>04-01-2020</td>\n",
       "      <td>India</td>\n",
       "      <td>0</td>\n",
       "      <td>0</td>\n",
       "      <td>0</td>\n",
       "    </tr>\n",
       "    <tr>\n",
       "      <td>72386</td>\n",
       "      <td>05-01-2020</td>\n",
       "      <td>India</td>\n",
       "      <td>0</td>\n",
       "      <td>0</td>\n",
       "      <td>0</td>\n",
       "    </tr>\n",
       "    <tr>\n",
       "      <td>72387</td>\n",
       "      <td>06-01-2020</td>\n",
       "      <td>India</td>\n",
       "      <td>0</td>\n",
       "      <td>0</td>\n",
       "      <td>0</td>\n",
       "    </tr>\n",
       "    <tr>\n",
       "      <td>72388</td>\n",
       "      <td>07-01-2020</td>\n",
       "      <td>India</td>\n",
       "      <td>0</td>\n",
       "      <td>0</td>\n",
       "      <td>0</td>\n",
       "    </tr>\n",
       "    <tr>\n",
       "      <td>...</td>\n",
       "      <td>...</td>\n",
       "      <td>...</td>\n",
       "      <td>...</td>\n",
       "      <td>...</td>\n",
       "      <td>...</td>\n",
       "    </tr>\n",
       "    <tr>\n",
       "      <td>73133</td>\n",
       "      <td>21-01-2022</td>\n",
       "      <td>India</td>\n",
       "      <td>347254</td>\n",
       "      <td>703</td>\n",
       "      <td>488396</td>\n",
       "    </tr>\n",
       "    <tr>\n",
       "      <td>73134</td>\n",
       "      <td>22-01-2022</td>\n",
       "      <td>India</td>\n",
       "      <td>337704</td>\n",
       "      <td>488</td>\n",
       "      <td>488884</td>\n",
       "    </tr>\n",
       "    <tr>\n",
       "      <td>73135</td>\n",
       "      <td>23-01-2022</td>\n",
       "      <td>India</td>\n",
       "      <td>333533</td>\n",
       "      <td>525</td>\n",
       "      <td>489409</td>\n",
       "    </tr>\n",
       "    <tr>\n",
       "      <td>73136</td>\n",
       "      <td>24-01-2022</td>\n",
       "      <td>India</td>\n",
       "      <td>306064</td>\n",
       "      <td>439</td>\n",
       "      <td>489848</td>\n",
       "    </tr>\n",
       "    <tr>\n",
       "      <td>73137</td>\n",
       "      <td>25-01-2022</td>\n",
       "      <td>India</td>\n",
       "      <td>255874</td>\n",
       "      <td>614</td>\n",
       "      <td>490462</td>\n",
       "    </tr>\n",
       "  </tbody>\n",
       "</table>\n",
       "<p>754 rows × 5 columns</p>\n",
       "</div>"
      ],
      "text/plain": [
       "      Date_reported Country  New_cases  New_deaths  Cumulative_deaths\n",
       "72384    03-01-2020   India          0           0                  0\n",
       "72385    04-01-2020   India          0           0                  0\n",
       "72386    05-01-2020   India          0           0                  0\n",
       "72387    06-01-2020   India          0           0                  0\n",
       "72388    07-01-2020   India          0           0                  0\n",
       "...             ...     ...        ...         ...                ...\n",
       "73133    21-01-2022   India     347254         703             488396\n",
       "73134    22-01-2022   India     337704         488             488884\n",
       "73135    23-01-2022   India     333533         525             489409\n",
       "73136    24-01-2022   India     306064         439             489848\n",
       "73137    25-01-2022   India     255874         614             490462\n",
       "\n",
       "[754 rows x 5 columns]"
      ]
     },
     "execution_count": 83,
     "metadata": {},
     "output_type": "execute_result"
    }
   ],
   "source": [
    "india_df"
   ]
  },
  {
   "cell_type": "code",
   "execution_count": 84,
   "metadata": {},
   "outputs": [
    {
     "ename": "SyntaxError",
     "evalue": "invalid syntax (<ipython-input-84-2cb90be8dc65>, line 1)",
     "output_type": "error",
     "traceback": [
      "\u001b[1;36m  File \u001b[1;32m\"<ipython-input-84-2cb90be8dc65>\"\u001b[1;36m, line \u001b[1;32m1\u001b[0m\n\u001b[1;33m    visualizing the overall cases in a single plot\u001b[0m\n\u001b[1;37m                  ^\u001b[0m\n\u001b[1;31mSyntaxError\u001b[0m\u001b[1;31m:\u001b[0m invalid syntax\n"
     ]
    }
   ],
   "source": [
    "visualizing the overall cases in a single plot"
   ]
  },
  {
   "cell_type": "code",
   "execution_count": 85,
   "metadata": {},
   "outputs": [
    {
     "data": {
      "text/plain": [
       "<matplotlib.axes._subplots.AxesSubplot at 0x21ca7299dc8>"
      ]
     },
     "execution_count": 85,
     "metadata": {},
     "output_type": "execute_result"
    },
    {
     "data": {
      "image/png": "[encoded data removed]",
      "text/plain": [
       "<Figure size 720x360 with 1 Axes>"
      ]
     },
     "metadata": {
      "needs_background": "light"
     },
     "output_type": "display_data"
    }
   ],
   "source": [
    "\n",
    "india_df.New_cases.plot(figsize=(10, 5),color='b')\n",
    "india_df.New_deaths.plot(figsize=(10, 5),color='r')\n",
    "india_df.Cumulative_deaths.plot(figsize=(10, 5),color='g')\n"
   ]
  },
  {
   "cell_type": "markdown",
   "metadata": {},
   "source": [
    "splitting the data in train and test for fitting a linear regression model"
   ]
  },
  {
   "cell_type": "code",
   "execution_count": 86,
   "metadata": {},
   "outputs": [
    {
     "name": "stderr",
     "output_type": "stream",
     "text": [
      "C:\\Users\\MANIDEEP\\Anaconda3\\lib\\site-packages\\ipykernel_launcher.py:2: SettingWithCopyWarning: \n",
      "A value is trying to be set on a copy of a slice from a DataFrame.\n",
      "Try using .loc[row_indexer,col_indexer] = value instead\n",
      "\n",
      "See the caveats in the documentation: http://pandas.pydata.org/pandas-docs/stable/user_guide/indexing.html#returning-a-view-versus-a-copy\n",
      "  \n",
      "C:\\Users\\MANIDEEP\\Anaconda3\\lib\\site-packages\\ipykernel_launcher.py:3: SettingWithCopyWarning: \n",
      "A value is trying to be set on a copy of a slice from a DataFrame.\n",
      "Try using .loc[row_indexer,col_indexer] = value instead\n",
      "\n",
      "See the caveats in the documentation: http://pandas.pydata.org/pandas-docs/stable/user_guide/indexing.html#returning-a-view-versus-a-copy\n",
      "  This is separate from the ipykernel package so we can avoid doing imports until\n",
      "C:\\Users\\MANIDEEP\\Anaconda3\\lib\\site-packages\\ipykernel_launcher.py:4: SettingWithCopyWarning: \n",
      "A value is trying to be set on a copy of a slice from a DataFrame.\n",
      "Try using .loc[row_indexer,col_indexer] = value instead\n",
      "\n",
      "See the caveats in the documentation: http://pandas.pydata.org/pandas-docs/stable/user_guide/indexing.html#returning-a-view-versus-a-copy\n",
      "  after removing the cwd from sys.path.\n"
     ]
    }
   ],
   "source": [
    "# Define explanatory variables\n",
    "india_df['S_3'] = india_df['New_cases'].rolling(window=3).mean()\n",
    "india_df['S_9'] = india_df['New_cases'].rolling(window=9).mean()\n",
    "india_df['estimated_cases'] = india_df['New_cases'].shift(-1)\n",
    "\n",
    "india_df = india_df.dropna()\n",
    "X = india_df[['S_3', 'S_9']]\n",
    "\n",
    "# Define dependent variable\n",
    "y = india_df['estimated_cases']\n",
    "t = .4\n",
    "t = int(t*len(india_df))\n",
    "\n",
    "# Train dataset\n",
    "X_train = X[:t]\n",
    "y_train = y[:t]\n",
    "\n",
    "# Test dataset\n",
    "X_test = X[t:]\n",
    "y_test = y[t:]"
   ]
  },
  {
   "cell_type": "code",
   "execution_count": 87,
   "metadata": {},
   "outputs": [
    {
     "data": {
      "image/png": "[encoded data removed]",
      "text/plain": [
       "<Figure size 720x360 with 1 Axes>"
      ]
     },
     "metadata": {
      "needs_background": "light"
     },
     "output_type": "display_data"
    },
    {
     "data": {
      "image/png": "[encoded data removed]",
      "text/plain": [
       "<Figure size 720x360 with 1 Axes>"
      ]
     },
     "metadata": {
      "needs_background": "light"
     },
     "output_type": "display_data"
    }
   ],
   "source": [
    "india_df.New_cases.plot(figsize=(10, 5),color='r')\n",
    "# Predicting the prices\n",
    "linear = LinearRegression().fit(X_train, y_train)\n",
    "predicted= linear.predict(X_test)\n",
    "predicted = pd.DataFrame(\n",
    "    predicted, index=y_test.index, columns=['New_cases'])\n",
    "predicted.plot(figsize=(10, 5))\n",
    "y_test.plot()\n",
    "plt.legend(['predicted', 'actual'])\n",
    "plt.ylabel(\"covid cases\")\n",
    "plt.show()"
   ]
  },
  {
   "cell_type": "code",
   "execution_count": 88,
   "metadata": {},
   "outputs": [
    {
     "data": {
      "text/plain": [
       "97.66"
      ]
     },
     "execution_count": 88,
     "metadata": {},
     "output_type": "execute_result"
    }
   ],
   "source": [
    "# R square\n",
    "r2_score = linear.score(X[t:], y[t:])*100\n",
    "float(\"{0:.2f}\".format(r2_score))"
   ]
  },
  {
   "cell_type": "code",
   "execution_count": 89,
   "metadata": {},
   "outputs": [
    {
     "data": {
      "text/plain": [
       "<matplotlib.axes._subplots.AxesSubplot at 0x21ca7254788>"
      ]
     },
     "execution_count": 89,
     "metadata": {},
     "output_type": "execute_result"
    },
    {
     "data": {
      "image/png": "[encoded data removed]",
      "text/plain": [
       "<Figure size 720x360 with 1 Axes>"
      ]
     },
     "metadata": {
      "needs_background": "light"
     },
     "output_type": "display_data"
    }
   ],
   "source": [
    "india_df.New_deaths.plot(figsize=(10, 5),color='r')"
   ]
  },
  {
   "cell_type": "code",
   "execution_count": 108,
   "metadata": {},
   "outputs": [],
   "source": [
    "# Define explanatory variables\n",
    "india_df['S_3'] = india_df['New_deaths'].rolling(window=3).mean()\n",
    "india_df['S_9'] = india_df['New_deaths'].rolling(window=9).mean()\n",
    "india_df['estimated_deaths'] = india_df['New_deaths'].shift(-1)\n",
    "\n",
    "india_df = india_df.dropna()\n",
    "X = india_df[['S_3', 'S_9']]\n",
    "\n",
    "# Define dependent variable\n",
    "y = india_df['estimated_deaths']\n",
    "t = .20\n",
    "t = int(t*len(india_df))\n",
    "\n",
    "# Train dataset\n",
    "X_train = X[:t]\n",
    "y_train = y[:t]\n",
    "\n",
    "# Test dataset\n",
    "X_test = X[t:]\n",
    "y_test = y[t:]"
   ]
  },
  {
   "cell_type": "code",
   "execution_count": 109,
   "metadata": {},
   "outputs": [
    {
     "data": {
      "image/png": "[encoded data removed]",
      "text/plain": [
       "<Figure size 720x360 with 1 Axes>"
      ]
     },
     "metadata": {
      "needs_background": "light"
     },
     "output_type": "display_data"
    },
    {
     "data": {
      "image/png": "[encoded data removed]",
      "text/plain": [
       "<Figure size 720x360 with 1 Axes>"
      ]
     },
     "metadata": {
      "needs_background": "light"
     },
     "output_type": "display_data"
    }
   ],
   "source": [
    "india_df.New_deaths.plot(figsize=(10, 5),color='r')\n",
    "# Predicting the prices\n",
    "linear = LinearRegression().fit(X_train, y_train)\n",
    "predicted= linear.predict(X_test)\n",
    "predicted = pd.DataFrame(\n",
    "    predicted, index=y_test.index, columns=['New_deaths'])\n",
    "predicted.plot(figsize=(10, 5))\n",
    "y_test.plot()\n",
    "plt.legend(['predicted deaths ', 'actual deaths'])\n",
    "plt.ylabel(\"covid cases\")\n",
    "plt.show()"
   ]
  },
  {
   "cell_type": "code",
   "execution_count": 110,
   "metadata": {},
   "outputs": [
    {
     "data": {
      "text/plain": [
       "87.07"
      ]
     },
     "execution_count": 110,
     "metadata": {},
     "output_type": "execute_result"
    }
   ],
   "source": [
    "#sns.pairplot(X, diag_kind='kde')\n",
    "r2_score = linear.score(X[t:], y[t:])*100\n",
    "float(\"{0:.2f}\".format(r2_score))"
   ]
  },
  {
   "cell_type": "code",
   "execution_count": null,
   "metadata": {},
   "outputs": [],
   "source": []
  }
 ],
 "metadata": {
  "kernelspec": {
   "display_name": "Python 3",
   "language": "python",
   "name": "python3"
  },
  "language_info": {
   "codemirror_mode": {
    "name": "ipython",
    "version": 3
   },
   "file_extension": ".py",
   "mimetype": "text/x-python",
   "name": "python",
   "nbconvert_exporter": "python",
   "pygments_lexer": "ipython3",
   "version": "3.7.4"
  }
 },
 "nbformat": 4,
 "nbformat_minor": 2
}
